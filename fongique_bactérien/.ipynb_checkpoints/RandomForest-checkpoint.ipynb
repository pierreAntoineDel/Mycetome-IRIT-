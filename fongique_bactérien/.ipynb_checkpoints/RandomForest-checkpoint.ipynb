{
 "cells": [
  {
   "cell_type": "code",
   "execution_count": 41,
   "id": "f85e1cd6",
   "metadata": {},
   "outputs": [
    {
     "name": "stdout",
     "output_type": "stream",
     "text": [
      "Training data dimension : (244, 102)\n",
      "Test data dimension : (82, 102)\n"
     ]
    }
   ],
   "source": [
    "import csv\n",
    "import pandas as pd\n",
    "from sklearn.ensemble import RandomForestClassifier\n",
    "from sklearn.model_selection import cross_val_score,train_test_split\n",
    "from sklearn.metrics import accuracy_score\n",
    "\n",
    "file = pd.read_csv('radiomics_features_set1.csv') \n",
    "    \n",
    "def mycetomaType(data):\n",
    "    types = []\n",
    "    labels = data.loc[:,'ID']\n",
    "    for lab in labels:\n",
    "        types.append(lab[0])\n",
    "    y = pd.Series(types)\n",
    "    return y\n",
    "y=mycetomaType(file)\n",
    "\n",
    "\n",
    "X = file.loc[:,file.columns[1:]]\n",
    "X_train, X_test, y_train, y_test = train_test_split(X,y)\n",
    "print(\"Training data dimension :\",X_train.shape)\n",
    "print(\"Test data dimension :\",X_test.shape)"
   ]
  },
  {
   "cell_type": "code",
   "execution_count": 42,
   "id": "6faedeb6",
   "metadata": {},
   "outputs": [
    {
     "name": "stdout",
     "output_type": "stream",
     "text": [
      "Accuracy: 0.9390243902439024\n"
     ]
    }
   ],
   "source": [
    "clf = RandomForestClassifier(random_state=0)  #criterion='gini'(default) or 'entropy', log loss not good\n",
    "clf.fit(X_train, y_train)\n",
    "y_pred=clf.predict(X_test)\n",
    "print(\"Accuracy:\",accuracy_score(y_test, y_pred))"
   ]
  },
  {
   "cell_type": "code",
   "execution_count": 43,
   "id": "b556e070",
   "metadata": {},
   "outputs": [
    {
     "name": "stdout",
     "output_type": "stream",
     "text": [
      "Evaluation by cross-validation : [0.87878788 0.93846154 0.96923077 0.89230769 0.89230769]\n"
     ]
    }
   ],
   "source": [
    "cross_validation = cross_val_score(clf, X, y)\n",
    "print(\"Evaluation by cross-validation :\",cross_validation)"
   ]
  },
  {
   "cell_type": "code",
   "execution_count": null,
   "id": "a33e08b7",
   "metadata": {},
   "outputs": [],
   "source": []
  },
  {
   "cell_type": "code",
   "execution_count": null,
   "id": "51588fc6",
   "metadata": {},
   "outputs": [],
   "source": []
  }
 ],
 "metadata": {
  "kernelspec": {
   "display_name": "Python 3 (ipykernel)",
   "language": "python",
   "name": "python3"
  },
  "language_info": {
   "codemirror_mode": {
    "name": "ipython",
    "version": 3
   },
   "file_extension": ".py",
   "mimetype": "text/x-python",
   "name": "python",
   "nbconvert_exporter": "python",
   "pygments_lexer": "ipython3",
   "version": "3.9.13"
  }
 },
 "nbformat": 4,
 "nbformat_minor": 5
}
