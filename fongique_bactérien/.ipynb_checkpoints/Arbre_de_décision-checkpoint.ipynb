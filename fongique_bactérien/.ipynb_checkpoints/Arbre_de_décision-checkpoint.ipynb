{
 "cells": [
  {
   "cell_type": "markdown",
   "id": "f77c8aa7",
   "metadata": {},
   "source": [
    "\n",
    "# Classification du mycétome fongique / bactérien\n",
    "### Classification à l'aide d'un arbre de décision\n"
   ]
  },
  {
   "cell_type": "code",
   "execution_count": null,
   "id": "695775ad",
   "metadata": {},
   "outputs": [],
   "source": []
  },
  {
   "cell_type": "code",
   "execution_count": 3,
   "id": "ec6891fa",
   "metadata": {},
   "outputs": [],
   "source": [
    "import pandas as pd\n",
    "import matplotlib.pyplot as plt\n",
    "import numpy as np\n",
    "from sklearn import tree\n",
    "\n",
    "from sklearn.model_selection import train_test_split, cross_val_score\n",
    "\n",
    "from sklearn.metrics import precision_score, recall_score, f1_score, roc_curve"
   ]
  },
  {
   "cell_type": "markdown",
   "id": "79688f2d",
   "metadata": {},
   "source": [
    "#### récup des données + reformatage"
   ]
  },
  {
   "cell_type": "code",
   "execution_count": 9,
   "id": "596d3560",
   "metadata": {},
   "outputs": [
    {
     "name": "stdout",
     "output_type": "stream",
     "text": [
      "(862,)\n",
      "Training data dimension : (646, 102)\n",
      "Test data dimension : (216, 102)\n"
     ]
    }
   ],
   "source": [
    "file1 =open('../radiomics_features_set1.csv','r') \n",
    "file2 = open('../radiomics_features_set2.csv','r')\n",
    "\n",
    "# concatenate both files into one and read them\n",
    "data = pd.concat(map(pd.read_csv, [file1, file2]), ignore_index=True)\n",
    "\n",
    "def mycetomaType(data):\n",
    "    types = []\n",
    "    labels = data.loc[:,'ID']\n",
    "    for lab in labels:\n",
    "        if lab[0] == 'F':\n",
    "            types.append(0)\n",
    "        else:\n",
    "            types.append(1)\n",
    "    y = np.array(types)\n",
    "    return y\n",
    "\n",
    "# mycetoma type\n",
    "y = mycetomaType(data)\n",
    "print(y.shape)\n",
    "\n",
    "# associated data\n",
    "X = data.loc[:,data.columns[1:]]\n",
    "\n",
    "X_train, X_test, y_train, y_test = train_test_split(X,y)\n",
    "print(\"Training data dimension :\",X_train.shape)\n",
    "print(\"Test data dimension :\",X_test.shape)"
   ]
  },
  {
   "cell_type": "markdown",
   "id": "5b95cb5e",
   "metadata": {},
   "source": [
    "#### Apprentissage par arbre de décision\n"
   ]
  },
  {
   "cell_type": "code",
   "execution_count": null,
   "id": "a16ca4a5",
   "metadata": {},
   "outputs": [],
   "source": [
    "clf = tree.DecisionTreeClassifier()\n",
    "clf = clf.fit(X_train, y_train)\n"
   ]
  }
 ],
 "metadata": {
  "kernelspec": {
   "display_name": "Python 3 (ipykernel)",
   "language": "python",
   "name": "python3"
  },
  "language_info": {
   "codemirror_mode": {
    "name": "ipython",
    "version": 3
   },
   "file_extension": ".py",
   "mimetype": "text/x-python",
   "name": "python",
   "nbconvert_exporter": "python",
   "pygments_lexer": "ipython3",
   "version": "3.9.13"
  }
 },
 "nbformat": 4,
 "nbformat_minor": 5
}
