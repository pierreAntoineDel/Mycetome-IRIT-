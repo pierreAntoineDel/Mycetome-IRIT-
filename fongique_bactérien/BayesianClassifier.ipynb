{
 "cells": [
  {
   "cell_type": "markdown",
   "id": "521e867f",
   "metadata": {},
   "source": [
    "# FUNGUS / BACTERIAL MYCETOMA CLASSIFICATION"
   ]
  },
  {
   "cell_type": "markdown",
   "id": "74e21f1d",
   "metadata": {},
   "source": [
    "## Method : bayesian classifier"
   ]
  },
  {
   "cell_type": "markdown",
   "id": "d50fc275",
   "metadata": {},
   "source": [
    "<p> Reminders about data :\n",
    "    <ul>\n",
    "        <li> FM : fungus / BM : bacterial\n",
    "        <li> label = type + n°patient + _ + n°grain\n",
    "    </ul>\n",
    "</p>"
   ]
  },
  {
   "cell_type": "code",
   "execution_count": 81,
   "id": "a20f5db0",
   "metadata": {},
   "outputs": [],
   "source": [
    "%run dataManagement.ipynb"
   ]
  },
  {
   "cell_type": "code",
   "execution_count": 2,
   "id": "66767825",
   "metadata": {},
   "outputs": [],
   "source": [
    "import pandas as pd\n",
    "import matplotlib.pyplot as plt\n",
    "import numpy as np\n",
    "\n",
    "from sklearn.preprocessing import MinMaxScaler,OrdinalEncoder\n",
    "from sklearn.model_selection import train_test_split, cross_val_score\n",
    "from sklearn.naive_bayes import GaussianNB, MultinomialNB, ComplementNB, BernoulliNB, CategoricalNB\n",
    "from sklearn.metrics import f1_score, roc_curve, roc_auc_score\n",
    "\n",
    "from scikitplot.metrics import plot_confusion_matrix, plot_roc_curve"
   ]
  },
  {
   "cell_type": "markdown",
   "id": "68394a3e",
   "metadata": {},
   "source": [
    "##### 1) Getting data"
   ]
  },
  {
   "cell_type": "code",
   "execution_count": 83,
   "id": "1b9a0fbf",
   "metadata": {},
   "outputs": [],
   "source": [
    "file1 = './Data/radiomics_features_set1.csv'\n",
    "file2 = './Data/radiomics_features_set2.csv'"
   ]
  },
  {
   "cell_type": "code",
   "execution_count": 84,
   "id": "fc2ab9c0",
   "metadata": {},
   "outputs": [],
   "source": [
    "data = readCSV(file1,file2)"
   ]
  },
  {
   "cell_type": "markdown",
   "id": "4f930f4d",
   "metadata": {},
   "source": [
    "##### 2) Defining training and testing data"
   ]
  },
  {
   "cell_type": "code",
   "execution_count": 85,
   "id": "9b40ba5d",
   "metadata": {},
   "outputs": [],
   "source": [
    "# notation : 0 for Fungus / 1 for Bacterial"
   ]
  },
  {
   "cell_type": "code",
   "execution_count": 86,
   "id": "8c6d7735",
   "metadata": {},
   "outputs": [],
   "source": [
    "# mycetoma type\n",
    "y = getLabels(data)\n",
    "\n",
    "# associated data\n",
    "X = getData(data)"
   ]
  },
  {
   "cell_type": "code",
   "execution_count": 87,
   "id": "17c780a7",
   "metadata": {},
   "outputs": [],
   "source": [
    "# preprocessing the data to remove negative numbers\n",
    "scaler = MinMaxScaler()\n",
    "X = scaler.fit_transform(X)"
   ]
  },
  {
   "cell_type": "code",
   "execution_count": 88,
   "id": "e091cc53",
   "metadata": {
    "scrolled": false
   },
   "outputs": [
    {
     "name": "stdout",
     "output_type": "stream",
     "text": [
      "Training data dimension : (646, 102)\n",
      "Test data dimension : (216, 102)\n"
     ]
    }
   ],
   "source": [
    "X_train, X_test, y_train, y_test = train_test_split(X,y)\n",
    "print(\"Training data dimension :\",X_train.shape)\n",
    "print(\"Test data dimension :\",X_test.shape)"
   ]
  },
  {
   "cell_type": "markdown",
   "id": "d9508b38",
   "metadata": {},
   "source": [
    "##### 3) Learning"
   ]
  },
  {
   "cell_type": "markdown",
   "id": "ca424904",
   "metadata": {},
   "source": [
    "- Gaussian Naive Bayes algorithm"
   ]
  },
  {
   "cell_type": "code",
   "execution_count": 89,
   "id": "4b473dab",
   "metadata": {},
   "outputs": [],
   "source": [
    "gaussian = GaussianNB()"
   ]
  },
  {
   "cell_type": "code",
   "execution_count": 90,
   "id": "8e228da8",
   "metadata": {},
   "outputs": [],
   "source": [
    "y_gauss = gaussian.fit(X_train,y_train).predict(X_test)"
   ]
  },
  {
   "cell_type": "markdown",
   "id": "5686791f",
   "metadata": {},
   "source": [
    "- Multinomial Naive Bayes algorithm"
   ]
  },
  {
   "cell_type": "code",
   "execution_count": 91,
   "id": "3d110d57",
   "metadata": {},
   "outputs": [],
   "source": [
    "multinomial = MultinomialNB()"
   ]
  },
  {
   "cell_type": "code",
   "execution_count": 92,
   "id": "fe9bfd48",
   "metadata": {
    "scrolled": false
   },
   "outputs": [],
   "source": [
    "y_multi = multinomial.fit(X_train,y_train).predict(X_test)"
   ]
  },
  {
   "cell_type": "markdown",
   "id": "7cde4eb4",
   "metadata": {},
   "source": [
    "- Complement Naive Bayes"
   ]
  },
  {
   "cell_type": "code",
   "execution_count": 93,
   "id": "aaa00c54",
   "metadata": {},
   "outputs": [],
   "source": [
    "complement = ComplementNB()"
   ]
  },
  {
   "cell_type": "code",
   "execution_count": 94,
   "id": "69959775",
   "metadata": {},
   "outputs": [],
   "source": [
    "y_compl = complement.fit(X_train,y_train).predict(X_test)"
   ]
  },
  {
   "cell_type": "markdown",
   "id": "de1bcd40",
   "metadata": {},
   "source": [
    "- Bernoulli algorithm"
   ]
  },
  {
   "cell_type": "code",
   "execution_count": 95,
   "id": "27e00ebd",
   "metadata": {},
   "outputs": [],
   "source": [
    "bernoulli = BernoulliNB()"
   ]
  },
  {
   "cell_type": "code",
   "execution_count": 96,
   "id": "d31b3027",
   "metadata": {},
   "outputs": [],
   "source": [
    "y_bern = bernoulli.fit(X_train,y_train).predict(X_test)"
   ]
  },
  {
   "cell_type": "markdown",
   "id": "3a484aca",
   "metadata": {},
   "source": [
    "- Categorical"
   ]
  },
  {
   "cell_type": "code",
   "execution_count": 97,
   "id": "3a27acba",
   "metadata": {},
   "outputs": [],
   "source": [
    "categorical = CategoricalNB(min_categories=102)"
   ]
  },
  {
   "cell_type": "code",
   "execution_count": 98,
   "id": "30c71e51",
   "metadata": {},
   "outputs": [],
   "source": [
    "y_cat = categorical.fit(X_train,y_train).predict(X_test)"
   ]
  },
  {
   "cell_type": "markdown",
   "id": "504aa5f6",
   "metadata": {},
   "source": [
    "##### 4) Testing"
   ]
  },
  {
   "cell_type": "markdown",
   "id": "2829985c",
   "metadata": {},
   "source": [
    "- cross-validation"
   ]
  },
  {
   "cell_type": "code",
   "execution_count": 100,
   "id": "70fb3fe4",
   "metadata": {},
   "outputs": [
    {
     "name": "stdout",
     "output_type": "stream",
     "text": [
      "---> with gaussian : [0.8265896  0.83815029 0.84302326 0.9127907  0.86046512]\n"
     ]
    }
   ],
   "source": [
    "cv_gauss = cross_val_score(gaussian, X, y)\n",
    "print(\"---> with gaussian :\", cv_gauss)"
   ]
  },
  {
   "cell_type": "code",
   "execution_count": 101,
   "id": "accd1642",
   "metadata": {},
   "outputs": [
    {
     "name": "stdout",
     "output_type": "stream",
     "text": [
      "---> with multinomial : [0.82080925 0.84971098 0.8372093  0.90697674 0.86046512]\n"
     ]
    }
   ],
   "source": [
    "cv_multi = cross_val_score(multinomial, X, y)\n",
    "print(\"---> with multinomial :\",cv_multi)"
   ]
  },
  {
   "cell_type": "code",
   "execution_count": 102,
   "id": "9db15557",
   "metadata": {},
   "outputs": [
    {
     "name": "stdout",
     "output_type": "stream",
     "text": [
      "---> with complement : [0.84393064 0.86127168 0.8372093  0.9127907  0.84302326]\n"
     ]
    }
   ],
   "source": [
    "cv_compl = cross_val_score(complement, X, y)\n",
    "print(\"---> with complement :\",cv_compl)"
   ]
  },
  {
   "cell_type": "code",
   "execution_count": 103,
   "id": "e7553133",
   "metadata": {},
   "outputs": [
    {
     "name": "stdout",
     "output_type": "stream",
     "text": [
      "---> with bernoulli : [0.53757225 0.53757225 0.55232558 0.54069767 0.55813953]\n"
     ]
    }
   ],
   "source": [
    "cv_bern = cross_val_score(bernoulli, X, y)\n",
    "print(\"---> with bernoulli :\",cv_bern)"
   ]
  },
  {
   "cell_type": "code",
   "execution_count": 104,
   "id": "63585c72",
   "metadata": {},
   "outputs": [
    {
     "name": "stdout",
     "output_type": "stream",
     "text": [
      "---> with categorical : [0.54913295 0.5433526  0.54651163 0.54651163 0.54651163]\n"
     ]
    }
   ],
   "source": [
    "cv_cat = cross_val_score(categorical, X, y)\n",
    "print(\"---> with categorical :\",cv_cat)"
   ]
  },
  {
   "cell_type": "markdown",
   "id": "60fe2cf8",
   "metadata": {},
   "source": [
    "- confusion matrix"
   ]
  },
  {
   "cell_type": "code",
   "execution_count": 105,
   "id": "8e5ea185",
   "metadata": {},
   "outputs": [
    {
     "name": "stdout",
     "output_type": "stream",
     "text": [
      "---> with gaussian :\n"
     ]
    },
    {
     "data": {
      "text/plain": [
       "<AxesSubplot:title={'center':'Confusion Matrix'}, xlabel='Predicted label', ylabel='True label'>"
      ]
     },
     "execution_count": 105,
     "metadata": {},
     "output_type": "execute_result"
    },
    {
     "data": {
      "image/png": "[encoded data removed]",
      "text/plain": [
       "<Figure size 432x288 with 2 Axes>"
      ]
     },
     "metadata": {
      "needs_background": "light"
     },
     "output_type": "display_data"
    }
   ],
   "source": [
    "print(\"---> with gaussian :\")\n",
    "plot_confusion_matrix(y_test,y_gauss)"
   ]
  },
  {
   "cell_type": "code",
   "execution_count": 106,
   "id": "c371baaa",
   "metadata": {},
   "outputs": [
    {
     "name": "stdout",
     "output_type": "stream",
     "text": [
      "---> with multinomial :\n"
     ]
    },
    {
     "data": {
      "text/plain": [
       "<AxesSubplot:title={'center':'Confusion Matrix'}, xlabel='Predicted label', ylabel='True label'>"
      ]
     },
     "execution_count": 106,
     "metadata": {},
     "output_type": "execute_result"
    },
    {
     "data": {
      "image/png": "[encoded data removed]",
      "text/plain": [
       "<Figure size 432x288 with 2 Axes>"
      ]
     },
     "metadata": {
      "needs_background": "light"
     },
     "output_type": "display_data"
    }
   ],
   "source": [
    "print(\"---> with multinomial :\")\n",
    "plot_confusion_matrix(y_test,y_multi)"
   ]
  },
  {
   "cell_type": "code",
   "execution_count": 107,
   "id": "dc5321e0",
   "metadata": {},
   "outputs": [
    {
     "name": "stdout",
     "output_type": "stream",
     "text": [
      "---> with complement :\n"
     ]
    },
    {
     "data": {
      "text/plain": [
       "<AxesSubplot:title={'center':'Confusion Matrix'}, xlabel='Predicted label', ylabel='True label'>"
      ]
     },
     "execution_count": 107,
     "metadata": {},
     "output_type": "execute_result"
    },
    {
     "data": {
      "image/png": "[encoded data removed]",
      "text/plain": [
       "<Figure size 432x288 with 2 Axes>"
      ]
     },
     "metadata": {
      "needs_background": "light"
     },
     "output_type": "display_data"
    }
   ],
   "source": [
    "print(\"---> with complement :\")\n",
    "plot_confusion_matrix(y_test,y_compl)"
   ]
  },
  {
   "cell_type": "code",
   "execution_count": 108,
   "id": "fa86a985",
   "metadata": {},
   "outputs": [
    {
     "name": "stdout",
     "output_type": "stream",
     "text": [
      "---> with bernoulli :\n"
     ]
    },
    {
     "data": {
      "text/plain": [
       "<AxesSubplot:title={'center':'Confusion Matrix'}, xlabel='Predicted label', ylabel='True label'>"
      ]
     },
     "execution_count": 108,
     "metadata": {},
     "output_type": "execute_result"
    },
    {
     "data": {
      "image/png": "[encoded data removed]",
      "text/plain": [
       "<Figure size 432x288 with 2 Axes>"
      ]
     },
     "metadata": {
      "needs_background": "light"
     },
     "output_type": "display_data"
    }
   ],
   "source": [
    "print(\"---> with bernoulli :\")\n",
    "plot_confusion_matrix(y_test,y_bern)"
   ]
  },
  {
   "cell_type": "code",
   "execution_count": 109,
   "id": "42c6d986",
   "metadata": {},
   "outputs": [
    {
     "name": "stdout",
     "output_type": "stream",
     "text": [
      "---> with categorical :\n"
     ]
    },
    {
     "data": {
      "text/plain": [
       "<AxesSubplot:title={'center':'Confusion Matrix'}, xlabel='Predicted label', ylabel='True label'>"
      ]
     },
     "execution_count": 109,
     "metadata": {},
     "output_type": "execute_result"
    },
    {
     "data": {
      "image/png": "[encoded data removed]",
      "text/plain": [
       "<Figure size 432x288 with 2 Axes>"
      ]
     },
     "metadata": {
      "needs_background": "light"
     },
     "output_type": "display_data"
    }
   ],
   "source": [
    "print(\"---> with categorical :\")\n",
    "plot_confusion_matrix(y_test,y_cat)"
   ]
  },
  {
   "cell_type": "markdown",
   "id": "ab005927",
   "metadata": {},
   "source": [
    "- precision, recall, F-measure"
   ]
  },
  {
   "cell_type": "markdown",
   "id": "7848b35f",
   "metadata": {},
   "source": [
    "<p> Reminder :\n",
    "    <ul>\n",
    "        <li> Precision quantifies the number of positive class predictions that actually belong to the positive class.\n",
    "        <li> Recall quantifies the number of positive class predictions made out of all positive examples in the dataset.\n",
    "        <li> F-measure provides a single score that balances both the concerns of precision and recall in one number.\n",
    "    </ul>\n",
    "</p>"
   ]
  },
  {
   "cell_type": "code",
   "execution_count": 110,
   "id": "c42f455b",
   "metadata": {},
   "outputs": [
    {
     "name": "stdout",
     "output_type": "stream",
     "text": [
      "---> with gaussian : 0.839378238341969\n"
     ]
    }
   ],
   "source": [
    "f1_gauss = f1_score(y_test,y_gauss)\n",
    "print(\"---> with gaussian :\",f1_gauss)"
   ]
  },
  {
   "cell_type": "code",
   "execution_count": 111,
   "id": "d741d69a",
   "metadata": {},
   "outputs": [
    {
     "name": "stdout",
     "output_type": "stream",
     "text": [
      "---> with multinomial : 0.8307692307692308\n"
     ]
    }
   ],
   "source": [
    "f1_multi = f1_score(y_test,y_multi)\n",
    "print(\"---> with multinomial :\",f1_multi)"
   ]
  },
  {
   "cell_type": "code",
   "execution_count": 112,
   "id": "92b2efb5",
   "metadata": {},
   "outputs": [
    {
     "name": "stdout",
     "output_type": "stream",
     "text": [
      "---> with complement : 0.8307692307692308\n"
     ]
    }
   ],
   "source": [
    "f1_compl = f1_score(y_test,y_compl)\n",
    "print(\"---> with complement :\",f1_compl)"
   ]
  },
  {
   "cell_type": "code",
   "execution_count": 113,
   "id": "755f2c64",
   "metadata": {},
   "outputs": [
    {
     "name": "stdout",
     "output_type": "stream",
     "text": [
      "---> with bernoulli : 0.05940594059405941\n"
     ]
    }
   ],
   "source": [
    "f1_bern = f1_score(y_test,y_bern)\n",
    "print(\"---> with bernoulli :\",f1_bern)"
   ]
  },
  {
   "cell_type": "code",
   "execution_count": 114,
   "id": "70547ed1",
   "metadata": {},
   "outputs": [
    {
     "name": "stdout",
     "output_type": "stream",
     "text": [
      "---> with categorical : 0.0\n"
     ]
    }
   ],
   "source": [
    "f1_cat = f1_score(y_test,y_cat)\n",
    "print(\"---> with categorical :\",f1_cat)"
   ]
  },
  {
   "cell_type": "markdown",
   "id": "21240706",
   "metadata": {},
   "source": [
    "- roc curves"
   ]
  },
  {
   "cell_type": "code",
   "execution_count": 115,
   "id": "78b6361f",
   "metadata": {},
   "outputs": [
    {
     "name": "stdout",
     "output_type": "stream",
     "text": [
      "---> with gaussian :\n"
     ]
    },
    {
     "data": {
      "image/png": "[encoded data removed]",
      "text/plain": [
       "<Figure size 432x288 with 1 Axes>"
      ]
     },
     "metadata": {
      "needs_background": "light"
     },
     "output_type": "display_data"
    }
   ],
   "source": [
    "print(\"---> with gaussian :\")\n",
    "\n",
    "fpr,tpr,thresholds = roc_curve(y_test,y_gauss)\n",
    "\n",
    "plt.plot(fpr, tpr)\n",
    "plt.plot(fpr, fpr, linestyle = '--', color = 'k')\n",
    "plt.xlabel('False positive rate')\n",
    "plt.ylabel('True positive rate')\n",
    "\n",
    "AUROC = np.round(roc_auc_score(y_test, y_gauss), 2)\n",
    "\n",
    "plt.title(f'Logistic Regression Model ROC curve; AUROC: {AUROC}');\n",
    "plt.show()"
   ]
  },
  {
   "cell_type": "code",
   "execution_count": 116,
   "id": "749401cb",
   "metadata": {},
   "outputs": [
    {
     "name": "stdout",
     "output_type": "stream",
     "text": [
      "---> with multinomial :\n"
     ]
    },
    {
     "data": {
      "image/png": "[encoded data removed]",
      "text/plain": [
       "<Figure size 432x288 with 1 Axes>"
      ]
     },
     "metadata": {
      "needs_background": "light"
     },
     "output_type": "display_data"
    }
   ],
   "source": [
    "print(\"---> with multinomial :\")\n",
    "\n",
    "\n",
    "fpr,tpr,thresholds = roc_curve(y_test,y_multi)\n",
    "\n",
    "plt.plot(fpr, tpr)\n",
    "plt.plot(fpr, fpr, linestyle = '--', color = 'k')\n",
    "plt.xlabel('False positive rate')\n",
    "plt.ylabel('True positive rate')\n",
    "\n",
    "AUROC = np.round(roc_auc_score(y_test, y_multi), 2)\n",
    "\n",
    "plt.title(f'Logistic Regression Model ROC curve; AUROC: {AUROC}');\n",
    "plt.show()"
   ]
  },
  {
   "cell_type": "code",
   "execution_count": 117,
   "id": "aecedc63",
   "metadata": {},
   "outputs": [
    {
     "name": "stdout",
     "output_type": "stream",
     "text": [
      "---> with complement :\n"
     ]
    },
    {
     "data": {
      "image/png": "[encoded data removed]",
      "text/plain": [
       "<Figure size 432x288 with 1 Axes>"
      ]
     },
     "metadata": {
      "needs_background": "light"
     },
     "output_type": "display_data"
    }
   ],
   "source": [
    "print(\"---> with complement :\")\n",
    "\n",
    "fpr,tpr,thresholds = roc_curve(y_test,y_compl)\n",
    "\n",
    "plt.plot(fpr, tpr)\n",
    "plt.plot(fpr, fpr, linestyle = '--', color = 'k')\n",
    "plt.xlabel('False positive rate')\n",
    "plt.ylabel('True positive rate')\n",
    "\n",
    "AUROC = np.round(roc_auc_score(y_test, y_compl), 2)\n",
    "\n",
    "plt.title(f'Logistic Regression Model ROC curve; AUROC: {AUROC}');\n",
    "plt.show()"
   ]
  },
  {
   "cell_type": "code",
   "execution_count": 118,
   "id": "fbf4869d",
   "metadata": {},
   "outputs": [
    {
     "name": "stdout",
     "output_type": "stream",
     "text": [
      "---> with bernoulli :\n"
     ]
    },
    {
     "data": {
      "image/png": "[encoded data removed]",
      "text/plain": [
       "<Figure size 432x288 with 1 Axes>"
      ]
     },
     "metadata": {
      "needs_background": "light"
     },
     "output_type": "display_data"
    }
   ],
   "source": [
    "print(\"---> with bernoulli :\")\n",
    "\n",
    "fpr,tpr,thresholds = roc_curve(y_test,y_bern)\n",
    "\n",
    "plt.plot(fpr, tpr)\n",
    "plt.plot(fpr, fpr, linestyle = '--', color = 'k')\n",
    "plt.xlabel('False positive rate')\n",
    "plt.ylabel('True positive rate')\n",
    "\n",
    "AUROC = np.round(roc_auc_score(y_test, y_bern), 2)\n",
    "\n",
    "plt.title(f'Logistic Regression Model ROC curve; AUROC: {AUROC}');\n",
    "plt.show()"
   ]
  },
  {
   "cell_type": "code",
   "execution_count": 119,
   "id": "0b3351be",
   "metadata": {},
   "outputs": [
    {
     "name": "stdout",
     "output_type": "stream",
     "text": [
      "---> with categorical :\n"
     ]
    },
    {
     "data": {
      "image/png": "[encoded data removed]",
      "text/plain": [
       "<Figure size 432x288 with 1 Axes>"
      ]
     },
     "metadata": {
      "needs_background": "light"
     },
     "output_type": "display_data"
    }
   ],
   "source": [
    "print(\"---> with categorical :\")\n",
    "\n",
    "fpr,tpr,thresholds = roc_curve(y_test,y_cat)\n",
    "\n",
    "plt.plot(fpr, tpr)\n",
    "plt.plot(fpr, fpr, linestyle = '--', color = 'k')\n",
    "plt.xlabel('False positive rate')\n",
    "plt.ylabel('True positive rate')\n",
    "\n",
    "AUROC = np.round(roc_auc_score(y_test, y_cat), 2)\n",
    "\n",
    "plt.title(f'Logistic Regression Model ROC curve; AUROC: {AUROC}');\n",
    "plt.show()"
   ]
  }
 ],
 "metadata": {
  "kernelspec": {
   "display_name": "Python 3 (ipykernel)",
   "language": "python",
   "name": "python3"
  },
  "language_info": {
   "codemirror_mode": {
    "name": "ipython",
    "version": 3
   },
   "file_extension": ".py",
   "mimetype": "text/x-python",
   "name": "python",
   "nbconvert_exporter": "python",
   "pygments_lexer": "ipython3",
   "version": "3.9.13"
  }
 },
 "nbformat": 4,
 "nbformat_minor": 5
}
