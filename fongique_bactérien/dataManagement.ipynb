{
 "cells": [
  {
   "cell_type": "code",
   "execution_count": 1,
   "metadata": {},
   "outputs": [
    {
     "ename": "SyntaxError",
     "evalue": "closing parenthesis '}' does not match opening parenthesis '[' (3568000088.py, line 35)",
     "output_type": "error",
     "traceback": [
      "\u001b[1;36m  Cell \u001b[1;32mIn[1], line 35\u001b[1;36m\u001b[0m\n\u001b[1;33m    return pd.concat([file1, file2}, ignore_index = true)\u001b[0m\n\u001b[1;37m                                  ^\u001b[0m\n\u001b[1;31mSyntaxError\u001b[0m\u001b[1;31m:\u001b[0m closing parenthesis '}' does not match opening parenthesis '['\n"
     ]
    }
   ],
   "source": [
    "#--------------------------------------------------#\n",
    "#                      IMPORTS                     #\n",
    "#--------------------------------------------------#\n",
    "\n",
    "\n",
    "import pandas as pd\n",
    "\n",
    "\n",
    "#--------------------------------------------------#\n",
    "#                     FUNCTIONS                    #\n",
    "#--------------------------------------------------#\n",
    "\n",
    "\n",
    "# Input  : data extracted from CSV\n",
    "# Output : labels of the CSV file for each sample \n",
    "def getLabels(data):\n",
    "    labels = []\n",
    "    for label in data.loc[:, 'ID']:\n",
    "        if label[0] == 'F':\n",
    "            labels.append(0)\n",
    "        elif label[0] == 'B':\n",
    "            labels.append(1)\n",
    "    return pd.Series(labels)\n",
    "\n",
    "# Input  : data extracted from CSV\n",
    "# Output : data of the CSV file for each sample (not the labels)\n",
    "def getData(data):\n",
    "    return data.loc[:, data.columns[1:]]\n",
    "    \n",
    "# Input  : relative path to CSV file\n",
    "# Output : data contained in the CSV file\n",
    "def readCSV(relativePath1, relativePath2):\n",
    "    file1 = pd.read_csv(relativePath1)\n",
    "    file2 = pd.read_csv(relativePath2)\n",
    "    return pd.concat([file1, file2], ignore_index = True)\n",
    "\n"
   ]
  }
 ],
 "metadata": {
  "kernelspec": {
   "display_name": "Python 3 (ipykernel)",
   "language": "python",
   "name": "python3"
  },
  "language_info": {
   "codemirror_mode": {
    "name": "ipython",
    "version": 3
   },
   "file_extension": ".py",
   "mimetype": "text/x-python",
   "name": "python",
   "nbconvert_exporter": "python",
   "pygments_lexer": "ipython3",
   "version": "3.9.13"
  },
  "vscode": {
   "interpreter": {
    "hash": "c07062856b7724125d7e333377c5d7c8d9e104c99307e76a5355b397b5036571"
   }
  }
 },
 "nbformat": 4,
 "nbformat_minor": 2
}
