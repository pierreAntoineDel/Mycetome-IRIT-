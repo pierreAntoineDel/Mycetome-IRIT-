{
 "cells": [
  {
   "cell_type": "markdown",
   "id": "31460858",
   "metadata": {},
   "source": [
    "# FUNGUS MYCETOMA CLASSIFICATION"
   ]
  },
  {
   "cell_type": "markdown",
   "id": "83288d62",
   "metadata": {},
   "source": [
    "## Method : linear model"
   ]
  },
  {
   "cell_type": "markdown",
   "id": "a6bd3f3f",
   "metadata": {},
   "source": [
    "<p> Reminders about data :\n",
    "    <ul>\n",
    "        <li> FM : fungus / BM : bacterial\n",
    "        <li> label = type + n°patient + _ + n°grain\n",
    "    </ul>\n",
    "</p>"
   ]
  },
  {
   "cell_type": "code",
   "execution_count": 1,
   "id": "30220a17",
   "metadata": {},
   "outputs": [],
   "source": [
    "%run dataManagementPart2.ipynb"
   ]
  },
  {
   "cell_type": "code",
   "execution_count": 2,
   "id": "a9e06acf",
   "metadata": {},
   "outputs": [],
   "source": [
    "import pandas as pd\n",
    "import matplotlib.pyplot as plt\n",
    "import numpy as np\n",
    "\n",
    "from sklearn.linear_model import LogisticRegression\n",
    "from sklearn.discriminant_analysis import LinearDiscriminantAnalysis\n",
    "from sklearn.neighbors import KNeighborsClassifier\n",
    "\n",
    "from sklearn.preprocessing import MinMaxScaler\n",
    "\n",
    "from sklearn.model_selection import train_test_split, cross_val_score\n",
    "from sklearn import linear_model, metrics, svm\n",
    "\n",
    "from sklearn.metrics import f1_score, roc_curve, roc_auc_score\n",
    "\n",
    "from scikitplot.metrics import plot_confusion_matrix"
   ]
  },
  {
   "cell_type": "markdown",
   "id": "de361e9b",
   "metadata": {},
   "source": [
    "##### 1) Getting data"
   ]
  },
  {
   "cell_type": "code",
   "execution_count": 3,
   "id": "d49c45bf",
   "metadata": {},
   "outputs": [],
   "source": [
    "file1 = './Data/radiomics_features_set1.csv'\n",
    "file2 = './Data/radiomics_features_set2.csv'"
   ]
  },
  {
   "cell_type": "code",
   "execution_count": 4,
   "id": "2e6e3d60",
   "metadata": {},
   "outputs": [],
   "source": [
    "data = readCSV(file1,file2)"
   ]
  },
  {
   "cell_type": "code",
   "execution_count": 5,
   "id": "f520ca84",
   "metadata": {},
   "outputs": [
    {
     "name": "stdout",
     "output_type": "stream",
     "text": [
      "(206, 102) (37, 102) (16, 102)\n"
     ]
    }
   ],
   "source": [
    "# fungus mycetoma type\n",
    "y = getLabels(data)[1]\n",
    "\n",
    "# associated data\n",
    "X = getData(data)[1]"
   ]
  },
  {
   "cell_type": "markdown",
   "id": "fe1fc07b",
   "metadata": {},
   "source": [
    "##### 2) Balancing data"
   ]
  },
  {
   "cell_type": "code",
   "execution_count": 6,
   "id": "259a2a1e",
   "metadata": {},
   "outputs": [
    {
     "name": "stdout",
     "output_type": "stream",
     "text": [
      "Number of type 1 : 166\n",
      "Number of type 2 : 111\n",
      "Number of type 1 : 111\n",
      "Number of type 2 : 111\n"
     ]
    }
   ],
   "source": [
    "nb1 = y.count(1)\n",
    "nb2 = y.count(2)\n",
    "print(\"Number of type 1 :\",nb1)\n",
    "print(\"Number of type 2 :\",nb2)\n",
    "\n",
    "balanced_y = []\n",
    "balanced_X = []\n",
    "\n",
    "cpt = 0\n",
    "for i in range(len(y)):\n",
    "    if y[i] == 1 and cpt != nb2:\n",
    "        balanced_y.append(y[i])\n",
    "        balanced_X.append(data.iloc[i])\n",
    "        cpt += 1\n",
    "    elif y[i] == 2:\n",
    "        balanced_y.append(y[i])\n",
    "        balanced_X.append(X.iloc[i,:])\n",
    "\n",
    "y = balanced_y \n",
    "X = pd.DataFrame(balanced_X,index=[i for i in range(nb2*2)],columns=X.columns)\n",
    "\n",
    "nb1_end = y.count(1)\n",
    "nb2_end = y.count(2)\n",
    "print(\"Number of type 1 :\",nb1_end)\n",
    "print(\"Number of type 2 :\",nb2_end)"
   ]
  },
  {
   "cell_type": "markdown",
   "id": "19b16d11",
   "metadata": {},
   "source": [
    "##### 3) Defining training and testing data"
   ]
  },
  {
   "cell_type": "code",
   "execution_count": 7,
   "id": "e7ec82f2",
   "metadata": {},
   "outputs": [],
   "source": [
    "# preprocessing the data to remove negative numbers\n",
    "scaler = MinMaxScaler()\n",
    "X = scaler.fit_transform(X)"
   ]
  },
  {
   "cell_type": "code",
   "execution_count": 8,
   "id": "a77d028e",
   "metadata": {},
   "outputs": [
    {
     "name": "stdout",
     "output_type": "stream",
     "text": [
      "Training data dimension : (166, 102)\n",
      "Test data dimension : (56, 102)\n"
     ]
    }
   ],
   "source": [
    "X_train, X_test, y_train, y_test = train_test_split(X,y)\n",
    "print(\"Training data dimension :\",X_train.shape)\n",
    "print(\"Test data dimension :\",X_test.shape)"
   ]
  },
  {
   "cell_type": "markdown",
   "id": "f80c751e",
   "metadata": {},
   "source": [
    "##### 4) Learning"
   ]
  },
  {
   "cell_type": "markdown",
   "id": "db719ba1",
   "metadata": {},
   "source": [
    "- Logistic regression"
   ]
  },
  {
   "cell_type": "code",
   "execution_count": 9,
   "id": "eb228885",
   "metadata": {},
   "outputs": [],
   "source": [
    "LR = LogisticRegression()"
   ]
  },
  {
   "cell_type": "code",
   "execution_count": 10,
   "id": "fa7eb0e9",
   "metadata": {},
   "outputs": [],
   "source": [
    "y_LR = LR.fit(X_train,y_train).predict(X_test)"
   ]
  },
  {
   "cell_type": "markdown",
   "id": "9086d157",
   "metadata": {},
   "source": [
    "- Support Vector Machines"
   ]
  },
  {
   "cell_type": "code",
   "execution_count": 11,
   "id": "2f90803b",
   "metadata": {},
   "outputs": [],
   "source": [
    "SVM = svm.SVC()"
   ]
  },
  {
   "cell_type": "code",
   "execution_count": 12,
   "id": "7c6eabb4",
   "metadata": {},
   "outputs": [],
   "source": [
    "y_SVM = SVM.fit(X_train,y_train).predict(X_test)"
   ]
  },
  {
   "cell_type": "markdown",
   "id": "81198ade",
   "metadata": {},
   "source": [
    "- Linear Discriminant Analysis"
   ]
  },
  {
   "cell_type": "code",
   "execution_count": 13,
   "id": "ece44b96",
   "metadata": {},
   "outputs": [],
   "source": [
    "LDA = LinearDiscriminantAnalysis()"
   ]
  },
  {
   "cell_type": "code",
   "execution_count": 14,
   "id": "8adb511e",
   "metadata": {},
   "outputs": [],
   "source": [
    "y_LDA = LDA.fit(X_train,y_train).predict(X_test)"
   ]
  },
  {
   "cell_type": "markdown",
   "id": "6b85f7aa",
   "metadata": {},
   "source": [
    "- KNeighbors Classifier"
   ]
  },
  {
   "cell_type": "code",
   "execution_count": 15,
   "id": "ea04dc7e",
   "metadata": {},
   "outputs": [],
   "source": [
    "KNN = KNeighborsClassifier(n_neighbors=2)"
   ]
  },
  {
   "cell_type": "code",
   "execution_count": 16,
   "id": "abb514cf",
   "metadata": {},
   "outputs": [],
   "source": [
    "y_KNN = KNN.fit(X_train,y_train).predict(X_test)"
   ]
  },
  {
   "cell_type": "markdown",
   "id": "1cd53911",
   "metadata": {},
   "source": [
    "##### 5) Testing"
   ]
  },
  {
   "cell_type": "markdown",
   "id": "bf70f929",
   "metadata": {},
   "source": [
    "- cross-validation"
   ]
  },
  {
   "cell_type": "code",
   "execution_count": 17,
   "id": "fb51c2a0",
   "metadata": {},
   "outputs": [
    {
     "name": "stdout",
     "output_type": "stream",
     "text": [
      "---> with logidtic regression : [0.75555556 0.75555556 0.70454545 0.72727273 0.79545455]\n"
     ]
    }
   ],
   "source": [
    "cv_LR = cross_val_score(LR, X, y)\n",
    "print(\"---> with logistic regression :\", cv_LR)"
   ]
  },
  {
   "cell_type": "code",
   "execution_count": 18,
   "id": "81986e6a",
   "metadata": {
    "scrolled": true
   },
   "outputs": [
    {
     "name": "stdout",
     "output_type": "stream",
     "text": [
      "---> with support vector machine :  [0.66666667 0.73333333 0.65909091 0.72727273 0.81818182]\n"
     ]
    }
   ],
   "source": [
    "cv_SVM = cross_val_score(SVM, X, y)\n",
    "print(\"---> with support vector machine : \",cv_SVM )"
   ]
  },
  {
   "cell_type": "code",
   "execution_count": 19,
   "id": "ead2d421",
   "metadata": {},
   "outputs": [
    {
     "name": "stdout",
     "output_type": "stream",
     "text": [
      "---> with linear discriminant analysis : [0.77777778 0.75555556 0.77272727 0.81818182 0.79545455]\n"
     ]
    }
   ],
   "source": [
    "cv_LDA = cross_val_score(LDA, X, y)\n",
    "print(\"---> with linear discriminant analysis :\",cv_LDA)"
   ]
  },
  {
   "cell_type": "code",
   "execution_count": 21,
   "id": "b9696b1f",
   "metadata": {
    "scrolled": true
   },
   "outputs": [
    {
     "name": "stdout",
     "output_type": "stream",
     "text": [
      "---> with kneighbors classifier : [0.62222222 0.68888889 0.63636364 0.72727273 0.70454545]\n"
     ]
    }
   ],
   "source": [
    "cv_KNN = cross_val_score(KNN, X, y)\n",
    "print(\"---> with kneighbors classifier :\",cv_KNN )"
   ]
  },
  {
   "cell_type": "markdown",
   "id": "f2e59d8e",
   "metadata": {},
   "source": [
    "- confusion matrix"
   ]
  },
  {
   "cell_type": "code",
   "execution_count": 22,
   "id": "a080c33e",
   "metadata": {},
   "outputs": [
    {
     "name": "stdout",
     "output_type": "stream",
     "text": [
      "---> with logistic regression :\n"
     ]
    },
    {
     "data": {
      "text/plain": [
       "<AxesSubplot:title={'center':'Confusion Matrix'}, xlabel='Predicted label', ylabel='True label'>"
      ]
     },
     "execution_count": 22,
     "metadata": {},
     "output_type": "execute_result"
    },
    {
     "data": {
      "image/png": "[encoded data removed]",
      "text/plain": [
       "<Figure size 432x288 with 2 Axes>"
      ]
     },
     "metadata": {
      "needs_background": "light"
     },
     "output_type": "display_data"
    }
   ],
   "source": [
    "print(\"---> with logistic regression :\")\n",
    "plot_confusion_matrix(y_test,y_LR)"
   ]
  },
  {
   "cell_type": "code",
   "execution_count": 23,
   "id": "cf7f3510",
   "metadata": {},
   "outputs": [
    {
     "name": "stdout",
     "output_type": "stream",
     "text": [
      "---> with support vector machine :\n"
     ]
    },
    {
     "data": {
      "text/plain": [
       "<AxesSubplot:title={'center':'Confusion Matrix'}, xlabel='Predicted label', ylabel='True label'>"
      ]
     },
     "execution_count": 23,
     "metadata": {},
     "output_type": "execute_result"
    },
    {
     "data": {
      "image/png": "[encoded data removed]",
      "text/plain": [
       "<Figure size 432x288 with 2 Axes>"
      ]
     },
     "metadata": {
      "needs_background": "light"
     },
     "output_type": "display_data"
    }
   ],
   "source": [
    "print(\"---> with support vector machine :\")\n",
    "plot_confusion_matrix(y_test,y_SVM)"
   ]
  },
  {
   "cell_type": "code",
   "execution_count": 24,
   "id": "a84d4bd9",
   "metadata": {},
   "outputs": [
    {
     "name": "stdout",
     "output_type": "stream",
     "text": [
      "---> with linear discriminant analysis :\n"
     ]
    },
    {
     "data": {
      "text/plain": [
       "<AxesSubplot:title={'center':'Confusion Matrix'}, xlabel='Predicted label', ylabel='True label'>"
      ]
     },
     "execution_count": 24,
     "metadata": {},
     "output_type": "execute_result"
    },
    {
     "data": {
      "image/png": "[encoded data removed]",
      "text/plain": [
       "<Figure size 432x288 with 2 Axes>"
      ]
     },
     "metadata": {
      "needs_background": "light"
     },
     "output_type": "display_data"
    }
   ],
   "source": [
    "print(\"---> with linear discriminant analysis :\")\n",
    "plot_confusion_matrix(y_test,y_LDA)"
   ]
  },
  {
   "cell_type": "code",
   "execution_count": 25,
   "id": "9a4a1e00",
   "metadata": {},
   "outputs": [
    {
     "name": "stdout",
     "output_type": "stream",
     "text": [
      "---> with kneighbors classifier :\n"
     ]
    },
    {
     "data": {
      "text/plain": [
       "<AxesSubplot:title={'center':'Confusion Matrix'}, xlabel='Predicted label', ylabel='True label'>"
      ]
     },
     "execution_count": 25,
     "metadata": {},
     "output_type": "execute_result"
    },
    {
     "data": {
      "image/png": "[encoded data removed]",
      "text/plain": [
       "<Figure size 432x288 with 2 Axes>"
      ]
     },
     "metadata": {
      "needs_background": "light"
     },
     "output_type": "display_data"
    }
   ],
   "source": [
    "print(\"---> with kneighbors classifier :\")\n",
    "plot_confusion_matrix(y_test,y_KNN)"
   ]
  },
  {
   "cell_type": "markdown",
   "id": "70e00e08",
   "metadata": {},
   "source": [
    "- precision, recall, F-measure"
   ]
  },
  {
   "cell_type": "code",
   "execution_count": 28,
   "id": "67a8a073",
   "metadata": {},
   "outputs": [
    {
     "name": "stdout",
     "output_type": "stream",
     "text": [
      "---> with logistic regression : 0.7333333333333333\n"
     ]
    }
   ],
   "source": [
    "f1_LR = f1_score(y_test,y_LR)\n",
    "print(\"---> with logistic regression :\",f1_LR)"
   ]
  },
  {
   "cell_type": "code",
   "execution_count": 27,
   "id": "c131beef",
   "metadata": {},
   "outputs": [
    {
     "name": "stdout",
     "output_type": "stream",
     "text": [
      "---> with support vector machines :  0.7586206896551724\n"
     ]
    }
   ],
   "source": [
    "f1_SVM = f1_score(y_test,y_SVM)\n",
    "print(\"---> with support vector machines :\",f1_SVM)"
   ]
  },
  {
   "cell_type": "code",
   "execution_count": 30,
   "id": "25cc4d6a",
   "metadata": {},
   "outputs": [
    {
     "name": "stdout",
     "output_type": "stream",
     "text": [
      "---> with linear discriminant analysis : 0.8070175438596492\n"
     ]
    }
   ],
   "source": [
    "f1_LDA = f1_score(y_test,y_LDA)\n",
    "print(\"---> with linear discriminant analysis :\",f1_LDA)"
   ]
  },
  {
   "cell_type": "code",
   "execution_count": 31,
   "id": "33cd78bf",
   "metadata": {},
   "outputs": [
    {
     "name": "stdout",
     "output_type": "stream",
     "text": [
      "---> with kneighbors classifier :  0.8059701492537312\n"
     ]
    }
   ],
   "source": [
    "f1_KNN = f1_score(y_test,y_KNN)\n",
    "print(\"---> with kneighbors classifier : \",f1_KNN)"
   ]
  },
  {
   "cell_type": "markdown",
   "id": "25ff8cbe",
   "metadata": {},
   "source": [
    "- roc curves"
   ]
  },
  {
   "cell_type": "code",
   "execution_count": 34,
   "id": "ecfed56c",
   "metadata": {},
   "outputs": [
    {
     "data": {
      "image/png": "[encoded data removed]",
      "text/plain": [
       "<Figure size 432x288 with 1 Axes>"
      ]
     },
     "metadata": {
      "needs_background": "light"
     },
     "output_type": "display_data"
    }
   ],
   "source": [
    "fpr,tpr,thresholds = roc_curve(y_test,y_LR,pos_label=2)\n",
    "\n",
    "plt.plot(fpr, tpr)\n",
    "plt.plot(fpr, fpr, linestyle = '--', color = 'k')\n",
    "plt.xlabel('False positive rate')\n",
    "plt.ylabel('True positive rate')\n",
    "\n",
    "AUROC = np.round(roc_auc_score(y_test, y_LR), 2)\n",
    "\n",
    "plt.title(f'Logistic Regression Model ROC curve; AUROC: {AUROC}');\n",
    "plt.show()"
   ]
  },
  {
   "cell_type": "code",
   "execution_count": 35,
   "id": "6a2e1597",
   "metadata": {},
   "outputs": [
    {
     "data": {
      "image/png": "[encoded data removed]",
      "text/plain": [
       "<Figure size 432x288 with 1 Axes>"
      ]
     },
     "metadata": {
      "needs_background": "light"
     },
     "output_type": "display_data"
    }
   ],
   "source": [
    "fpr,tpr,thresholds = roc_curve(y_test,y_SVM,pos_label=2)\n",
    "\n",
    "plt.plot(fpr, tpr)\n",
    "plt.plot(fpr, fpr, linestyle = '--', color = 'k')\n",
    "plt.xlabel('False positive rate')\n",
    "plt.ylabel('True positive rate')\n",
    "\n",
    "AUROC = np.round(roc_auc_score(y_test, y_SVM), 2)\n",
    "\n",
    "plt.title(f'Support Vector Machines ROC curve; AUROC: {AUROC}');\n",
    "plt.show()"
   ]
  },
  {
   "cell_type": "code",
   "execution_count": 36,
   "id": "27d0823a",
   "metadata": {},
   "outputs": [
    {
     "data": {
      "image/png": "[encoded data removed]",
      "text/plain": [
       "<Figure size 432x288 with 1 Axes>"
      ]
     },
     "metadata": {
      "needs_background": "light"
     },
     "output_type": "display_data"
    }
   ],
   "source": [
    "fpr,tpr,thresholds = roc_curve(y_test,y_LDA,pos_label=2)\n",
    "\n",
    "plt.plot(fpr, tpr)\n",
    "plt.plot(fpr, fpr, linestyle = '--', color = 'k')\n",
    "plt.xlabel('False positive rate')\n",
    "plt.ylabel('True positive rate')\n",
    "\n",
    "AUROC = np.round(roc_auc_score(y_test, y_LDA), 2)\n",
    "\n",
    "plt.title(f'Linear Discriminant Analysis ROC curve; AUROC: {AUROC}');\n",
    "plt.show()"
   ]
  },
  {
   "cell_type": "code",
   "execution_count": 38,
   "id": "5791eead",
   "metadata": {},
   "outputs": [
    {
     "data": {
      "image/png": "[encoded data removed]",
      "text/plain": [
       "<Figure size 432x288 with 1 Axes>"
      ]
     },
     "metadata": {
      "needs_background": "light"
     },
     "output_type": "display_data"
    }
   ],
   "source": [
    "fpr,tpr,thresholds = roc_curve(y_test,y_KNN,pos_label=2)\n",
    "\n",
    "plt.plot(fpr, tpr)\n",
    "plt.plot(fpr, fpr, linestyle = '--', color = 'k')\n",
    "plt.xlabel('False positive rate')\n",
    "plt.ylabel('True positive rate')\n",
    "\n",
    "AUROC = np.round(roc_auc_score(y_test, y_KNN), 2)\n",
    "\n",
    "plt.title(f'KNeighbors Classifier Model ROC curve; AUROC: {AUROC}');\n",
    "plt.show()"
   ]
  }
 ],
 "metadata": {
  "kernelspec": {
   "display_name": "Python 3 (ipykernel)",
   "language": "python",
   "name": "python3"
  },
  "language_info": {
   "codemirror_mode": {
    "name": "ipython",
    "version": 3
   },
   "file_extension": ".py",
   "mimetype": "text/x-python",
   "name": "python",
   "nbconvert_exporter": "python",
   "pygments_lexer": "ipython3",
   "version": "3.10.7"
  }
 },
 "nbformat": 4,
 "nbformat_minor": 5
}
