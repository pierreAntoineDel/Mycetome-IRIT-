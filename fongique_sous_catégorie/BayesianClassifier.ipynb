{
 "cells": [
  {
   "cell_type": "markdown",
   "id": "521e867f",
   "metadata": {},
   "source": [
    "# FUNGUS MYCETOMA CLASSIFICATION"
   ]
  },
  {
   "cell_type": "markdown",
   "id": "74e21f1d",
   "metadata": {},
   "source": [
    "## Method : bayesian classifier"
   ]
  },
  {
   "cell_type": "markdown",
   "id": "d50fc275",
   "metadata": {},
   "source": [
    "<p> Reminders about data :\n",
    "    <ul>\n",
    "        <li> FM : fungus / BM : bacterial\n",
    "        <li> label = type + n°patient + _ + n°grain\n",
    "    </ul>\n",
    "</p>"
   ]
  },
  {
   "cell_type": "code",
   "execution_count": 1,
   "id": "a20f5db0",
   "metadata": {},
   "outputs": [],
   "source": [
    "%run dataManagementPart2.ipynb"
   ]
  },
  {
   "cell_type": "code",
   "execution_count": 2,
   "id": "66767825",
   "metadata": {},
   "outputs": [],
   "source": [
    "import pandas as pd\n",
    "import matplotlib.pyplot as plt\n",
    "import numpy as np\n",
    "\n",
    "from sklearn.preprocessing import MinMaxScaler,OrdinalEncoder\n",
    "from sklearn.model_selection import train_test_split, cross_val_score\n",
    "from sklearn.naive_bayes import GaussianNB, MultinomialNB, ComplementNB, BernoulliNB, CategoricalNB\n",
    "from sklearn.metrics import f1_score, roc_curve, roc_auc_score\n",
    "\n",
    "from scikitplot.metrics import plot_confusion_matrix, plot_roc_curve"
   ]
  },
  {
   "cell_type": "markdown",
   "id": "68394a3e",
   "metadata": {},
   "source": [
    "##### 1) Getting data"
   ]
  },
  {
   "cell_type": "code",
   "execution_count": 3,
   "id": "1b9a0fbf",
   "metadata": {},
   "outputs": [],
   "source": [
    "file1 = './Data/radiomics_features_set1.csv'\n",
    "file2 = './Data/radiomics_features_set2.csv'"
   ]
  },
  {
   "cell_type": "code",
   "execution_count": 4,
   "id": "fc2ab9c0",
   "metadata": {},
   "outputs": [],
   "source": [
    "data = readCSV(file1,file2)"
   ]
  },
  {
   "cell_type": "code",
   "execution_count": 6,
   "id": "8c6d7735",
   "metadata": {},
   "outputs": [
    {
     "name": "stdout",
     "output_type": "stream",
     "text": [
      "(206, 102) (37, 102) (16, 102)\n"
     ]
    }
   ],
   "source": [
    "# fungus mycetoma type\n",
    "y = getLabels(data)[1]\n",
    "\n",
    "# associated data\n",
    "X = getData(data)[1]"
   ]
  },
  {
   "cell_type": "markdown",
   "id": "2de7ab7f",
   "metadata": {},
   "source": [
    "##### 2) Balancing data"
   ]
  },
  {
   "cell_type": "code",
   "execution_count": 7,
   "id": "2c583106",
   "metadata": {},
   "outputs": [
    {
     "name": "stdout",
     "output_type": "stream",
     "text": [
      "Number of type 1 : 166\n",
      "Number of type 2 : 111\n",
      "Number of type 1 : 111\n",
      "Number of type 2 : 111\n"
     ]
    }
   ],
   "source": [
    "nb1 = y.count(1)\n",
    "nb2 = y.count(2)\n",
    "print(\"Number of type 1 :\",nb1)\n",
    "print(\"Number of type 2 :\",nb2)\n",
    "\n",
    "balanced_y = []\n",
    "balanced_X = []\n",
    "\n",
    "cpt = 0\n",
    "for i in range(len(y)):\n",
    "    if y[i] == 1 and cpt != nb2:\n",
    "        balanced_y.append(y[i])\n",
    "        balanced_X.append(data.iloc[i])\n",
    "        cpt += 1\n",
    "    elif y[i] == 2:\n",
    "        balanced_y.append(y[i])\n",
    "        balanced_X.append(X.iloc[i,:])\n",
    "\n",
    "        \n",
    "X = pd.DataFrame(balanced_X,index=[i for i in range(nb2*2)],columns=X.columns)\n",
    "y = balanced_y\n",
    "nb1_end = y.count(1)\n",
    "nb2_end = y.count(2)\n",
    "print(\"Number of type 1 :\",nb1_end)\n",
    "print(\"Number of type 2 :\",nb2_end)"
   ]
  },
  {
   "cell_type": "markdown",
   "id": "35ad24a5",
   "metadata": {},
   "source": [
    "##### 3) Defining training and testing data"
   ]
  },
  {
   "cell_type": "code",
   "execution_count": 8,
   "id": "17c780a7",
   "metadata": {},
   "outputs": [],
   "source": [
    "# preprocessing the data to remove negative numbers\n",
    "scaler = MinMaxScaler()\n",
    "X = scaler.fit_transform(X)"
   ]
  },
  {
   "cell_type": "code",
   "execution_count": 9,
   "id": "e091cc53",
   "metadata": {
    "scrolled": false
   },
   "outputs": [
    {
     "name": "stdout",
     "output_type": "stream",
     "text": [
      "Training data dimension : (166, 102)\n",
      "Test data dimension : (56, 102)\n"
     ]
    }
   ],
   "source": [
    "X_train, X_test, y_train, y_test = train_test_split(X,y)\n",
    "print(\"Training data dimension :\",X_train.shape)\n",
    "print(\"Test data dimension :\",X_test.shape)"
   ]
  },
  {
   "cell_type": "markdown",
   "id": "d9508b38",
   "metadata": {},
   "source": [
    "##### 4) Learning"
   ]
  },
  {
   "cell_type": "markdown",
   "id": "ca424904",
   "metadata": {},
   "source": [
    "- Gaussian Naive Bayes algorithm"
   ]
  },
  {
   "cell_type": "code",
   "execution_count": 10,
   "id": "4b473dab",
   "metadata": {},
   "outputs": [],
   "source": [
    "gaussian = GaussianNB()"
   ]
  },
  {
   "cell_type": "code",
   "execution_count": 11,
   "id": "8e228da8",
   "metadata": {},
   "outputs": [],
   "source": [
    "y_gauss = gaussian.fit(X_train,y_train).predict(X_test)"
   ]
  },
  {
   "cell_type": "markdown",
   "id": "5686791f",
   "metadata": {},
   "source": [
    "- Multinomial Naive Bayes algorithm"
   ]
  },
  {
   "cell_type": "code",
   "execution_count": 12,
   "id": "3d110d57",
   "metadata": {},
   "outputs": [],
   "source": [
    "multinomial = MultinomialNB()"
   ]
  },
  {
   "cell_type": "code",
   "execution_count": 13,
   "id": "fe9bfd48",
   "metadata": {
    "scrolled": false
   },
   "outputs": [],
   "source": [
    "y_multi = multinomial.fit(X_train,y_train).predict(X_test)"
   ]
  },
  {
   "cell_type": "markdown",
   "id": "7cde4eb4",
   "metadata": {},
   "source": [
    "- Complement Naive Bayes"
   ]
  },
  {
   "cell_type": "code",
   "execution_count": 14,
   "id": "aaa00c54",
   "metadata": {},
   "outputs": [],
   "source": [
    "complement = ComplementNB()"
   ]
  },
  {
   "cell_type": "code",
   "execution_count": 15,
   "id": "69959775",
   "metadata": {},
   "outputs": [],
   "source": [
    "y_compl = complement.fit(X_train,y_train).predict(X_test)"
   ]
  },
  {
   "cell_type": "markdown",
   "id": "de1bcd40",
   "metadata": {},
   "source": [
    "- Bernoulli algorithm"
   ]
  },
  {
   "cell_type": "code",
   "execution_count": 16,
   "id": "27e00ebd",
   "metadata": {},
   "outputs": [],
   "source": [
    "bernoulli = BernoulliNB()"
   ]
  },
  {
   "cell_type": "code",
   "execution_count": 17,
   "id": "d31b3027",
   "metadata": {},
   "outputs": [],
   "source": [
    "y_bern = bernoulli.fit(X_train,y_train).predict(X_test)"
   ]
  },
  {
   "cell_type": "markdown",
   "id": "3a484aca",
   "metadata": {},
   "source": [
    "- Categorical"
   ]
  },
  {
   "cell_type": "code",
   "execution_count": 18,
   "id": "3a27acba",
   "metadata": {},
   "outputs": [],
   "source": [
    "categorical = CategoricalNB(min_categories=102)"
   ]
  },
  {
   "cell_type": "code",
   "execution_count": 19,
   "id": "30c71e51",
   "metadata": {},
   "outputs": [],
   "source": [
    "y_cat = categorical.fit(X_train,y_train).predict(X_test)"
   ]
  },
  {
   "cell_type": "markdown",
   "id": "504aa5f6",
   "metadata": {},
   "source": [
    "##### 5) Testing"
   ]
  },
  {
   "cell_type": "markdown",
   "id": "2829985c",
   "metadata": {},
   "source": [
    "- cross-validation"
   ]
  },
  {
   "cell_type": "code",
   "execution_count": 20,
   "id": "70fb3fe4",
   "metadata": {},
   "outputs": [
    {
     "name": "stdout",
     "output_type": "stream",
     "text": [
      "---> with gaussian : [0.62222222 0.68888889 0.61363636 0.70454545 0.77272727]\n"
     ]
    }
   ],
   "source": [
    "cv_gauss = cross_val_score(gaussian, X, y)\n",
    "print(\"---> with gaussian :\", cv_gauss)"
   ]
  },
  {
   "cell_type": "code",
   "execution_count": 21,
   "id": "accd1642",
   "metadata": {},
   "outputs": [
    {
     "name": "stdout",
     "output_type": "stream",
     "text": [
      "---> with multinomial : [0.62222222 0.68888889 0.61363636 0.70454545 0.70454545]\n"
     ]
    }
   ],
   "source": [
    "cv_multi = cross_val_score(multinomial, X, y)\n",
    "print(\"---> with multinomial :\",cv_multi)"
   ]
  },
  {
   "cell_type": "code",
   "execution_count": 22,
   "id": "9db15557",
   "metadata": {},
   "outputs": [
    {
     "name": "stdout",
     "output_type": "stream",
     "text": [
      "---> with complement : [0.62222222 0.68888889 0.61363636 0.70454545 0.70454545]\n"
     ]
    }
   ],
   "source": [
    "cv_compl = cross_val_score(complement, X, y)\n",
    "print(\"---> with complement :\",cv_compl)"
   ]
  },
  {
   "cell_type": "code",
   "execution_count": 23,
   "id": "e7553133",
   "metadata": {},
   "outputs": [
    {
     "name": "stdout",
     "output_type": "stream",
     "text": [
      "---> with bernoulli : [0.51111111 0.51111111 0.52272727 0.5        0.47727273]\n"
     ]
    }
   ],
   "source": [
    "cv_bern = cross_val_score(bernoulli, X, y)\n",
    "print(\"---> with bernoulli :\",cv_bern)"
   ]
  },
  {
   "cell_type": "code",
   "execution_count": 24,
   "id": "63585c72",
   "metadata": {},
   "outputs": [
    {
     "name": "stdout",
     "output_type": "stream",
     "text": [
      "---> with categorical : [0.64444444 0.48888889 0.72727273 0.68181818 0.61363636]\n"
     ]
    }
   ],
   "source": [
    "cv_cat = cross_val_score(categorical, X, y)\n",
    "print(\"---> with categorical :\",cv_cat)"
   ]
  },
  {
   "cell_type": "markdown",
   "id": "60fe2cf8",
   "metadata": {},
   "source": [
    "- confusion matrix"
   ]
  },
  {
   "cell_type": "code",
   "execution_count": 25,
   "id": "8e5ea185",
   "metadata": {},
   "outputs": [
    {
     "name": "stdout",
     "output_type": "stream",
     "text": [
      "---> with gaussian :\n"
     ]
    },
    {
     "data": {
      "text/plain": [
       "<AxesSubplot:title={'center':'Confusion Matrix'}, xlabel='Predicted label', ylabel='True label'>"
      ]
     },
     "execution_count": 25,
     "metadata": {},
     "output_type": "execute_result"
    },
    {
     "data": {
      "image/png": "[encoded data removed]",
      "text/plain": [
       "<Figure size 432x288 with 2 Axes>"
      ]
     },
     "metadata": {
      "needs_background": "light"
     },
     "output_type": "display_data"
    }
   ],
   "source": [
    "print(\"---> with gaussian :\")\n",
    "plot_confusion_matrix(y_test,y_gauss)"
   ]
  },
  {
   "cell_type": "code",
   "execution_count": 26,
   "id": "c371baaa",
   "metadata": {},
   "outputs": [
    {
     "name": "stdout",
     "output_type": "stream",
     "text": [
      "---> with multinomial :\n"
     ]
    },
    {
     "data": {
      "text/plain": [
       "<AxesSubplot:title={'center':'Confusion Matrix'}, xlabel='Predicted label', ylabel='True label'>"
      ]
     },
     "execution_count": 26,
     "metadata": {},
     "output_type": "execute_result"
    },
    {
     "data": {
      "image/png": "[encoded data removed]",
      "text/plain": [
       "<Figure size 432x288 with 2 Axes>"
      ]
     },
     "metadata": {
      "needs_background": "light"
     },
     "output_type": "display_data"
    }
   ],
   "source": [
    "print(\"---> with multinomial :\")\n",
    "plot_confusion_matrix(y_test,y_multi)"
   ]
  },
  {
   "cell_type": "code",
   "execution_count": 27,
   "id": "dc5321e0",
   "metadata": {},
   "outputs": [
    {
     "name": "stdout",
     "output_type": "stream",
     "text": [
      "---> with complement :\n"
     ]
    },
    {
     "data": {
      "text/plain": [
       "<AxesSubplot:title={'center':'Confusion Matrix'}, xlabel='Predicted label', ylabel='True label'>"
      ]
     },
     "execution_count": 27,
     "metadata": {},
     "output_type": "execute_result"
    },
    {
     "data": {
      "image/png": "[encoded data removed]",
      "text/plain": [
       "<Figure size 432x288 with 2 Axes>"
      ]
     },
     "metadata": {
      "needs_background": "light"
     },
     "output_type": "display_data"
    }
   ],
   "source": [
    "print(\"---> with complement :\")\n",
    "plot_confusion_matrix(y_test,y_compl)"
   ]
  },
  {
   "cell_type": "code",
   "execution_count": 28,
   "id": "fa86a985",
   "metadata": {},
   "outputs": [
    {
     "name": "stdout",
     "output_type": "stream",
     "text": [
      "---> with bernoulli :\n"
     ]
    },
    {
     "data": {
      "text/plain": [
       "<AxesSubplot:title={'center':'Confusion Matrix'}, xlabel='Predicted label', ylabel='True label'>"
      ]
     },
     "execution_count": 28,
     "metadata": {},
     "output_type": "execute_result"
    },
    {
     "data": {
      "image/png": "[encoded data removed]",
      "text/plain": [
       "<Figure size 432x288 with 2 Axes>"
      ]
     },
     "metadata": {
      "needs_background": "light"
     },
     "output_type": "display_data"
    }
   ],
   "source": [
    "print(\"---> with bernoulli :\")\n",
    "plot_confusion_matrix(y_test,y_bern)"
   ]
  },
  {
   "cell_type": "code",
   "execution_count": 29,
   "id": "42c6d986",
   "metadata": {},
   "outputs": [
    {
     "name": "stdout",
     "output_type": "stream",
     "text": [
      "---> with categorical :\n"
     ]
    },
    {
     "data": {
      "text/plain": [
       "<AxesSubplot:title={'center':'Confusion Matrix'}, xlabel='Predicted label', ylabel='True label'>"
      ]
     },
     "execution_count": 29,
     "metadata": {},
     "output_type": "execute_result"
    },
    {
     "data": {
      "image/png": "[encoded data removed]",
      "text/plain": [
       "<Figure size 432x288 with 2 Axes>"
      ]
     },
     "metadata": {
      "needs_background": "light"
     },
     "output_type": "display_data"
    }
   ],
   "source": [
    "print(\"---> with categorical :\")\n",
    "plot_confusion_matrix(y_test,y_cat)"
   ]
  },
  {
   "cell_type": "markdown",
   "id": "ab005927",
   "metadata": {},
   "source": [
    "- precision, recall, F-measure"
   ]
  },
  {
   "cell_type": "markdown",
   "id": "7848b35f",
   "metadata": {},
   "source": [
    "<p> Reminder :\n",
    "    <ul>\n",
    "        <li> Precision quantifies the number of positive class predictions that actually belong to the positive class.\n",
    "        <li> Recall quantifies the number of positive class predictions made out of all positive examples in the dataset.\n",
    "        <li> F-measure provides a single score that balances both the concerns of precision and recall in one number.\n",
    "    </ul>\n",
    "</p>"
   ]
  },
  {
   "cell_type": "code",
   "execution_count": 30,
   "id": "c42f455b",
   "metadata": {},
   "outputs": [
    {
     "name": "stdout",
     "output_type": "stream",
     "text": [
      "---> with gaussian : 0.5957446808510638\n"
     ]
    }
   ],
   "source": [
    "f1_gauss = f1_score(y_test,y_gauss)\n",
    "print(\"---> with gaussian :\",f1_gauss)"
   ]
  },
  {
   "cell_type": "code",
   "execution_count": 31,
   "id": "d741d69a",
   "metadata": {},
   "outputs": [
    {
     "name": "stdout",
     "output_type": "stream",
     "text": [
      "---> with multinomial : 0.5714285714285715\n"
     ]
    }
   ],
   "source": [
    "f1_multi = f1_score(y_test,y_multi)\n",
    "print(\"---> with multinomial :\",f1_multi)"
   ]
  },
  {
   "cell_type": "code",
   "execution_count": 32,
   "id": "92b2efb5",
   "metadata": {},
   "outputs": [
    {
     "name": "stdout",
     "output_type": "stream",
     "text": [
      "---> with complement : 0.5833333333333334\n"
     ]
    }
   ],
   "source": [
    "f1_compl = f1_score(y_test,y_compl)\n",
    "print(\"---> with complement :\",f1_compl)"
   ]
  },
  {
   "cell_type": "code",
   "execution_count": 33,
   "id": "755f2c64",
   "metadata": {},
   "outputs": [
    {
     "name": "stdout",
     "output_type": "stream",
     "text": [
      "---> with bernoulli : 0.5217391304347825\n"
     ]
    }
   ],
   "source": [
    "f1_bern = f1_score(y_test,y_bern)\n",
    "print(\"---> with bernoulli :\",f1_bern)"
   ]
  },
  {
   "cell_type": "code",
   "execution_count": 34,
   "id": "70547ed1",
   "metadata": {},
   "outputs": [
    {
     "name": "stdout",
     "output_type": "stream",
     "text": [
      "---> with categorical : 0.5454545454545454\n"
     ]
    }
   ],
   "source": [
    "f1_cat = f1_score(y_test,y_cat)\n",
    "print(\"---> with categorical :\",f1_cat)"
   ]
  },
  {
   "cell_type": "markdown",
   "id": "21240706",
   "metadata": {},
   "source": [
    "- roc curves"
   ]
  },
  {
   "cell_type": "code",
   "execution_count": 38,
   "id": "78b6361f",
   "metadata": {},
   "outputs": [
    {
     "name": "stdout",
     "output_type": "stream",
     "text": [
      "---> with gaussian :\n"
     ]
    },
    {
     "data": {
      "image/png": "[encoded data removed]",
      "text/plain": [
       "<Figure size 432x288 with 1 Axes>"
      ]
     },
     "metadata": {
      "needs_background": "light"
     },
     "output_type": "display_data"
    }
   ],
   "source": [
    "print(\"---> with gaussian :\")\n",
    "\n",
    "fpr,tpr,thresholds = roc_curve(y_test,y_gauss,pos_label=2)\n",
    "\n",
    "plt.plot(fpr, tpr)\n",
    "plt.plot(fpr, fpr, linestyle = '--', color = 'k')\n",
    "plt.xlabel('False positive rate')\n",
    "plt.ylabel('True positive rate')\n",
    "\n",
    "AUROC = np.round(roc_auc_score(y_test, y_gauss), 2)\n",
    "\n",
    "plt.title(f'Logistic Regression Model ROC curve; AUROC: {AUROC}');\n",
    "plt.show()"
   ]
  },
  {
   "cell_type": "code",
   "execution_count": 39,
   "id": "749401cb",
   "metadata": {},
   "outputs": [
    {
     "name": "stdout",
     "output_type": "stream",
     "text": [
      "---> with multinomial :\n"
     ]
    },
    {
     "data": {
      "image/png": "[encoded data removed]",
      "text/plain": [
       "<Figure size 432x288 with 1 Axes>"
      ]
     },
     "metadata": {
      "needs_background": "light"
     },
     "output_type": "display_data"
    }
   ],
   "source": [
    "print(\"---> with multinomial :\")\n",
    "\n",
    "\n",
    "fpr,tpr,thresholds = roc_curve(y_test,y_multi,pos_label=2)\n",
    "\n",
    "plt.plot(fpr, tpr)\n",
    "plt.plot(fpr, fpr, linestyle = '--', color = 'k')\n",
    "plt.xlabel('False positive rate')\n",
    "plt.ylabel('True positive rate')\n",
    "\n",
    "AUROC = np.round(roc_auc_score(y_test, y_multi), 2)\n",
    "\n",
    "plt.title(f'Logistic Regression Model ROC curve; AUROC: {AUROC}');\n",
    "plt.show()"
   ]
  },
  {
   "cell_type": "code",
   "execution_count": 40,
   "id": "aecedc63",
   "metadata": {},
   "outputs": [
    {
     "name": "stdout",
     "output_type": "stream",
     "text": [
      "---> with complement :\n"
     ]
    },
    {
     "data": {
      "image/png": "[encoded data removed]",
      "text/plain": [
       "<Figure size 432x288 with 1 Axes>"
      ]
     },
     "metadata": {
      "needs_background": "light"
     },
     "output_type": "display_data"
    }
   ],
   "source": [
    "print(\"---> with complement :\")\n",
    "\n",
    "fpr,tpr,thresholds = roc_curve(y_test,y_compl,pos_label=2)\n",
    "\n",
    "plt.plot(fpr, tpr)\n",
    "plt.plot(fpr, fpr, linestyle = '--', color = 'k')\n",
    "plt.xlabel('False positive rate')\n",
    "plt.ylabel('True positive rate')\n",
    "\n",
    "AUROC = np.round(roc_auc_score(y_test, y_compl), 2)\n",
    "\n",
    "plt.title(f'Logistic Regression Model ROC curve; AUROC: {AUROC}');\n",
    "plt.show()"
   ]
  },
  {
   "cell_type": "code",
   "execution_count": 41,
   "id": "fbf4869d",
   "metadata": {},
   "outputs": [
    {
     "name": "stdout",
     "output_type": "stream",
     "text": [
      "---> with bernoulli :\n"
     ]
    },
    {
     "data": {
      "image/png": "[encoded data removed]",
      "text/plain": [
       "<Figure size 432x288 with 1 Axes>"
      ]
     },
     "metadata": {
      "needs_background": "light"
     },
     "output_type": "display_data"
    }
   ],
   "source": [
    "print(\"---> with bernoulli :\")\n",
    "\n",
    "fpr,tpr,thresholds = roc_curve(y_test,y_bern,pos_label=2)\n",
    "\n",
    "plt.plot(fpr, tpr)\n",
    "plt.plot(fpr, fpr, linestyle = '--', color = 'k')\n",
    "plt.xlabel('False positive rate')\n",
    "plt.ylabel('True positive rate')\n",
    "\n",
    "AUROC = np.round(roc_auc_score(y_test, y_bern), 2)\n",
    "\n",
    "plt.title(f'Logistic Regression Model ROC curve; AUROC: {AUROC}');\n",
    "plt.show()"
   ]
  },
  {
   "cell_type": "code",
   "execution_count": 42,
   "id": "0b3351be",
   "metadata": {},
   "outputs": [
    {
     "name": "stdout",
     "output_type": "stream",
     "text": [
      "---> with categorical :\n"
     ]
    },
    {
     "data": {
      "image/png": "[encoded data removed]",
      "text/plain": [
       "<Figure size 432x288 with 1 Axes>"
      ]
     },
     "metadata": {
      "needs_background": "light"
     },
     "output_type": "display_data"
    }
   ],
   "source": [
    "print(\"---> with categorical :\")\n",
    "\n",
    "fpr,tpr,thresholds = roc_curve(y_test,y_cat,pos_label=2)\n",
    "\n",
    "plt.plot(fpr, tpr)\n",
    "plt.plot(fpr, fpr, linestyle = '--', color = 'k')\n",
    "plt.xlabel('False positive rate')\n",
    "plt.ylabel('True positive rate')\n",
    "\n",
    "AUROC = np.round(roc_auc_score(y_test, y_cat), 2)\n",
    "\n",
    "plt.title(f'Logistic Regression Model ROC curve; AUROC: {AUROC}');\n",
    "plt.show()"
   ]
  }
 ],
 "metadata": {
  "kernelspec": {
   "display_name": "Python 3 (ipykernel)",
   "language": "python",
   "name": "python3"
  },
  "language_info": {
   "codemirror_mode": {
    "name": "ipython",
    "version": 3
   },
   "file_extension": ".py",
   "mimetype": "text/x-python",
   "name": "python",
   "nbconvert_exporter": "python",
   "pygments_lexer": "ipython3",
   "version": "3.10.7"
  }
 },
 "nbformat": 4,
 "nbformat_minor": 5
}
