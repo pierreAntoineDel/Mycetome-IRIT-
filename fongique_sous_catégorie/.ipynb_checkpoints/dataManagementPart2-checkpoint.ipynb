{
 "cells": [
  {
   "cell_type": "code",
   "execution_count": null,
   "id": "d10f0358",
   "metadata": {},
   "outputs": [],
   "source": [
    "#--------------------------------------------------#\n",
    "#                      IMPORTS                     #\n",
    "#--------------------------------------------------#\n",
    "\n",
    "\n",
    "import pandas as pd\n",
    "\n",
    "\n",
    "#--------------------------------------------------#\n",
    "#                     FUNCTIONS                    #\n",
    "#--------------------------------------------------#\n",
    "\n",
    "\n",
    "# Input  : data extracted from CSV\n",
    "# Output : labels of the CSV file for each sample \n",
    "def getLabels(data):\n",
    "    labels_B = []\n",
    "    labels_F = []\n",
    "    for label in data.loc[:, 'ID']:\n",
    "        if label[0:4] == 'FMC1':\n",
    "            labels_F.append(1)       \n",
    "        if label[0:4] == 'FMC2':\n",
    "            labels_F.append(2)\n",
    "        if label[0:4] == 'BMC1':\n",
    "            labels_B.append(3)\n",
    "        if label[0:4] == 'BMC2':\n",
    "            labels_B.append(4)\n",
    "        if label[0:4] == 'BMC3':\n",
    "            labels_B.append(5)\n",
    "    return labels_B,labels_F\n",
    "\n",
    "# Input  : data extracted from CSV\n",
    "# Output : data of the CSV file for each sample (not the labels)\n",
    "def getData(data):\n",
    "    FMC1  = data.loc[data[\"ID\"].str.startswith('FMC1'), data.columns[1:]]\n",
    "    FMC2  = data.loc[data[\"ID\"].str.startswith('FMC2'), data.columns[1:]]\n",
    "    BMC1  = data.loc[data[\"ID\"].str.startswith('BMC1'), data.columns[1:]]\n",
    "    BMC2  = data.loc[data[\"ID\"].str.startswith('BMC2'), data.columns[1:]]\n",
    "    BMC3  = data.loc[data[\"ID\"].str.startswith('BMC3'), data.columns[1:]]\n",
    "    \n",
    "    print(BMC1.shape,BMC2.shape,BMC3.shape)\n",
    "    datas_B = pd.concat([BMC1,BMC2,BMC3])\n",
    "    datas_F = pd.concat([FMC1,FMC2])\n",
    "    return datas_B,datas_F\n",
    "    \n",
    "# Input  : relative path to CSV file\n",
    "# Output : data contained in the CSV file\n",
    "def readCSV(relativePath1, relativePath2):\n",
    "    file1 = pd.read_csv(relativePath1)\n",
    "    file2 = pd.read_csv(relativePath2)\n",
    "    return pd.concat([file1, file2], ignore_index = True)\n",
    "\n",
    "def read1CSV(relativePath1):\n",
    "    file1 = pd.read_csv(relativePath1)\n",
    "    return (file1)"
   ]
  }
 ],
 "metadata": {
  "kernelspec": {
   "display_name": "Python 3 (ipykernel)",
   "language": "python",
   "name": "python3"
  },
  "language_info": {
   "codemirror_mode": {
    "name": "ipython",
    "version": 3
   },
   "file_extension": ".py",
   "mimetype": "text/x-python",
   "name": "python",
   "nbconvert_exporter": "python",
   "pygments_lexer": "ipython3",
   "version": "3.9.13"
  }
 },
 "nbformat": 4,
 "nbformat_minor": 5
}
