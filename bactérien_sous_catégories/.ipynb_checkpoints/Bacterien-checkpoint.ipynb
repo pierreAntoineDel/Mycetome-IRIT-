{
 "cells": [
  {
   "cell_type": "code",
   "execution_count": 9,
   "id": "ecee2c15",
   "metadata": {},
   "outputs": [],
   "source": [
    "%run dataManagementPart2.ipynb"
   ]
  },
  {
   "cell_type": "code",
   "execution_count": 10,
   "id": "1aae5328",
   "metadata": {},
   "outputs": [],
   "source": [
    "import numpy as np\n",
    "import matplotlib.pyplot as plt\n",
    "from sklearn.ensemble import RandomForestClassifier\n",
    "from sklearn.model_selection import cross_val_score,train_test_split\n",
    "from sklearn.metrics import accuracy_score\n",
    "from scikitplot.metrics import plot_confusion_matrix, confusion_matrix\n",
    "from sklearn.metrics import f1_score, roc_curve, roc_auc_score, precision_recall_curve, average_precision_score\n",
    "from sklearn.preprocessing import MinMaxScaler\n",
    "\n",
    "file1 = 'radiomics_features_set1.csv'\n",
    "file2 = 'radiomics_features_set2.csv'\n",
    "\n",
    "data = readCSV(file1,file2)"
   ]
  },
  {
   "cell_type": "code",
   "execution_count": 11,
   "id": "9de6ce85",
   "metadata": {},
   "outputs": [
    {
     "name": "stdout",
     "output_type": "stream",
     "text": [
      "(206, 102) (37, 102) (16, 102)\n",
      "len y_B, len Y_F 259 277\n",
      "(259, 102) (277, 102)\n",
      "Training data dimension : (194, 102)\n",
      "Test data dimension : (65, 102)\n",
      "Accuracy : 0.8153846153846154\n"
     ]
    }
   ],
   "source": [
    "y_B, y_F = getLabels(data)\n",
    "X_B,X_F = getData(data)\n",
    "\n",
    "scaler = MinMaxScaler()\n",
    "X_B = scaler.fit_transform(X_B)\n",
    "X_F = scaler.fit_transform(X_F)\n",
    "\n",
    "print(\"len y_B, len Y_F\",len(y_B) ,len(y_F))\n",
    "print(X_B.shape,X_F.shape)\n",
    "\n",
    "X_train_B, X_test_B, y_train_B, y_test_B = train_test_split(X_B,y_B)\n",
    "print(\"Training data dimension :\",X_train_B.shape)\n",
    "print(\"Test data dimension :\",X_test_B.shape)\n",
    "\n",
    "clf_sous_esp_B = RandomForestClassifier(criterion='gini',random_state=0)  \n",
    "clf_sous_esp_B.fit(X_train_B, y_train_B)\n",
    "y_pred_B=clf_sous_esp_B.predict(X_test_B)\n",
    "print(\"Accuracy :\",accuracy_score(y_test_B, y_pred_B))"
   ]
  },
  {
   "cell_type": "code",
   "execution_count": 12,
   "id": "3c0ac3f4",
   "metadata": {},
   "outputs": [
    {
     "data": {
      "text/plain": [
       "<sklearn.metrics._plot.confusion_matrix.ConfusionMatrixDisplay at 0x1288a9c10>"
      ]
     },
     "execution_count": 12,
     "metadata": {},
     "output_type": "execute_result"
    },
    {
     "data": {
      "image/png": "[encoded data removed]",
      "text/plain": [
       "<Figure size 432x288 with 2 Axes>"
      ]
     },
     "metadata": {
      "needs_background": "light"
     },
     "output_type": "display_data"
    }
   ],
   "source": [
    "from sklearn.metrics import ConfusionMatrixDisplay\n",
    "\n",
    "cm = confusion_matrix(y_test_B, y_pred_B)\n",
    "cmd = ConfusionMatrixDisplay(cm, display_labels=['BMC1','BMC2','BMC3'])\n",
    "cmd.plot()"
   ]
  },
  {
   "cell_type": "code",
   "execution_count": null,
   "id": "59e06723",
   "metadata": {},
   "outputs": [],
   "source": []
  },
  {
   "cell_type": "code",
   "execution_count": null,
   "id": "98ca7a9b",
   "metadata": {},
   "outputs": [],
   "source": [
    "\n"
   ]
  }
 ],
 "metadata": {
  "kernelspec": {
   "display_name": "Python 3 (ipykernel)",
   "language": "python",
   "name": "python3"
  },
  "language_info": {
   "codemirror_mode": {
    "name": "ipython",
    "version": 3
   },
   "file_extension": ".py",
   "mimetype": "text/x-python",
   "name": "python",
   "nbconvert_exporter": "python",
   "pygments_lexer": "ipython3",
   "version": "3.9.13"
  }
 },
 "nbformat": 4,
 "nbformat_minor": 5
}
